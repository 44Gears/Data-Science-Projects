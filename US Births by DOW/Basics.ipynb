{
 "cells": [
  {
   "cell_type": "markdown",
   "metadata": {},
   "source": [
    "## U.S. Births for Each Day of the Week from 1994 - 2003\n",
    "\n",
    "In this project, I'll be working with the data set from the Centers for Disease Control and Prevention's National Center for Health Statistics to tally the births for each corresponding day of the week from 1994 - 2003.\n",
    "\n",
    "The data set has the following structure:\n",
    "\n",
    " - year - Year\n",
    " - month - Month\n",
    " - date_of_month - Day number of the month\n",
    " - day_of_week - Day of week, where 1 is Monday and 7 is Sunday\n",
    " - births - Number of births\n",
    " \n"
   ]
  },
  {
   "cell_type": "markdown",
   "metadata": {},
   "source": [
    "### Open the CSV file in read mode and assign to a variable."
   ]
  },
  {
   "cell_type": "code",
   "execution_count": 1,
   "metadata": {
    "collapsed": false,
    "scrolled": true
   },
   "outputs": [],
   "source": [
    "f = open(\"births.csv\").read()"
   ]
  },
  {
   "cell_type": "markdown",
   "metadata": {},
   "source": [
    "### Split the data on the new-line character to create a list of lists and assign to a variable."
   ]
  },
  {
   "cell_type": "code",
   "execution_count": 2,
   "metadata": {
    "collapsed": false
   },
   "outputs": [],
   "source": [
    "rows = f.split(\"\\n\")    "
   ]
  },
  {
   "cell_type": "markdown",
   "metadata": {},
   "source": [
    "### Create a new dictionary and add extracted values from day of the week and corresponding total births for that day to the dictionary. "
   ]
  },
  {
   "cell_type": "code",
   "execution_count": 3,
   "metadata": {
    "collapsed": false,
    "scrolled": true
   },
   "outputs": [
    {
     "name": "stdout",
     "output_type": "stream",
     "text": [
      "OrderedDict([('Monday', '1'), ('Tuesday', '2'), ('Wednesday', '3'), ('Thursday', '4'), ('Friday', '5'), ('Saturday', '6'), ('Sunday', '7')])\n",
      "\n",
      "OrderedDict([('1', 5789166), ('2', 6446196), ('3', 6322855), ('4', 6288429), ('5', 6233657), ('6', 4562111), ('7', 4079723)])\n",
      "\n",
      "OrderedDict([('Monday', 5789166), ('Tuesday', 6446196), ('Wednesday', 6322855), ('Thursday', 6288429), ('Friday', 6233657), ('Saturday', 4562111), ('Sunday', 4079723)])\n"
     ]
    }
   ],
   "source": [
    "import pandas as pd\n",
    "import matplotlib.pyplot as plt\n",
    "%matplotlib inline\n",
    "import collections\n",
    "\n",
    "days_counts = {}\n",
    "\n",
    "rows_no_header = rows[1:]\n",
    "for row in rows_no_header:\n",
    "    split_row = row.split(\",\")\n",
    "    dow = split_row[3]\n",
    "    births = int(split_row[4])\n",
    "    if dow in days_counts:\n",
    "        days_counts[dow] = days_counts[dow] + births\n",
    "    else:\n",
    "        days_counts[dow] = births\n",
    "\n",
    "# created new dictionary of days of the week as key sorted by numbered value to create an index\n",
    "day_names = {'Monday': '1', 'Tuesday': '2', 'Wednesday': '3', 'Thursday': '4', 'Friday': '5', 'Saturday': '6', 'Sunday': '7'}\n",
    "\n",
    "# turned 'day_names' and 'days_counts' dictionaries into a sorted OrderedDict\n",
    "sorted_dn = collections.OrderedDict(sorted(day_names.items(), key=lambda x: x[1]))\n",
    "sorted_dc = collections.OrderedDict(sorted(days_counts.items(), key=lambda x: x[0]))\n",
    "\n",
    "# used key from 'sorted_dn' and value from 'sorted_dc' to create a new OrderedDict\n",
    "sorted_count = collections.OrderedDict((k, sorted_dc.get(v)) for k, v in sorted_dn.items() if v in sorted_dc)\n",
    "\n",
    "print(sorted_dn)\n",
    "print()\n",
    "print(sorted_dc)\n",
    "print()\n",
    "print(sorted_count)"
   ]
  },
  {
   "cell_type": "markdown",
   "metadata": {},
   "source": [
    "### Total births for each day of the week from 1994 - 2003:\n",
    "Monday: 5,789,166\n",
    "\n",
    "Tuesday:\t6,446,196\n",
    "\n",
    "Wednesday:\t6,322,855\n",
    "\n",
    "Thursday:\t6,288,429\n",
    "\n",
    "Friday:\t    6,233,657\n",
    "\n",
    "Saturday:\t4,562,111\n",
    "\n",
    "Sunday:\t    4,079,723\n"
   ]
  },
  {
   "cell_type": "markdown",
   "metadata": {},
   "source": [
    "### Bar chart showing counts by days of the week\n"
   ]
  },
  {
   "cell_type": "code",
   "execution_count": 4,
   "metadata": {
    "collapsed": false,
    "scrolled": true
   },
   "outputs": [
    {
     "data": {
      "image/png": "[encoded data removed]",
      "text/plain": [
       "<matplotlib.figure.Figure at 0x7f61244a6e10>"
      ]
     },
     "metadata": {},
     "output_type": "display_data"
    }
   ],
   "source": [
    "plt.subplots(figsize=(9, 3))\n",
    "plt.bar(range(len(sorted_count)), list(sorted_count.values()), align='center', width=0.3)\n",
    "plt.xticks(range(len(sorted_count)), list(sorted_count.keys()))\n",
    "plt.show()\n"
   ]
  }
 ],
 "metadata": {
  "anaconda-cloud": {},
  "kernelspec": {
   "display_name": "Python 3",
   "language": "python",
   "name": "python3"
  },
  "language_info": {
   "codemirror_mode": {
    "name": "ipython",
    "version": 3
   },
   "file_extension": ".py",
   "mimetype": "text/x-python",
   "name": "python",
   "nbconvert_exporter": "python",
   "pygments_lexer": "ipython3",
   "version": "3.4.3"
  }
 },
 "nbformat": 4,
 "nbformat_minor": 1
}
